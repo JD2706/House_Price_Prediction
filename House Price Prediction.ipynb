{
 "cells": [
  {
   "cell_type": "markdown",
   "id": "2b9e796c",
   "metadata": {},
   "source": [
    "# Housing Price Prediction using Linear Regression"
   ]
  },
  {
   "cell_type": "code",
   "execution_count": 1,
   "id": "d0d08fdf",
   "metadata": {},
   "outputs": [],
   "source": [
    "import numpy as np\n",
    "import pandas as pd\n",
    "import matplotlib.pyplot as plt"
   ]
  },
  {
   "cell_type": "raw",
   "id": "ea493ad0",
   "metadata": {},
   "source": [
    "Delete unnecessary column\n",
    "Normalised the data with mean\n",
    " "
   ]
  },
  {
   "cell_type": "code",
   "execution_count": 25,
   "id": "0d81561f",
   "metadata": {},
   "outputs": [
    {
     "data": {
      "text/html": [
       "<div>\n",
       "<style scoped>\n",
       "    .dataframe tbody tr th:only-of-type {\n",
       "        vertical-align: middle;\n",
       "    }\n",
       "\n",
       "    .dataframe tbody tr th {\n",
       "        vertical-align: top;\n",
       "    }\n",
       "\n",
       "    .dataframe thead th {\n",
       "        text-align: right;\n",
       "    }\n",
       "</style>\n",
       "<table border=\"1\" class=\"dataframe\">\n",
       "  <thead>\n",
       "    <tr style=\"text-align: right;\">\n",
       "      <th></th>\n",
       "      <th>price</th>\n",
       "      <th>lotsize</th>\n",
       "      <th>bedrooms</th>\n",
       "      <th>bathrms</th>\n",
       "      <th>stories</th>\n",
       "      <th>garagepl</th>\n",
       "    </tr>\n",
       "  </thead>\n",
       "  <tbody>\n",
       "    <tr>\n",
       "      <th>0</th>\n",
       "      <td>-0.978239</td>\n",
       "      <td>0.322732</td>\n",
       "      <td>0.047192</td>\n",
       "      <td>-0.568973</td>\n",
       "      <td>0.221501</td>\n",
       "      <td>0.357239</td>\n",
       "    </tr>\n",
       "    <tr>\n",
       "      <th>1</th>\n",
       "      <td>-1.109312</td>\n",
       "      <td>-0.530526</td>\n",
       "      <td>-1.308947</td>\n",
       "      <td>-0.568973</td>\n",
       "      <td>-0.930304</td>\n",
       "      <td>-0.803788</td>\n",
       "    </tr>\n",
       "    <tr>\n",
       "      <th>2</th>\n",
       "      <td>-0.697368</td>\n",
       "      <td>-0.964074</td>\n",
       "      <td>0.047192</td>\n",
       "      <td>-0.568973</td>\n",
       "      <td>-0.930304</td>\n",
       "      <td>-0.803788</td>\n",
       "    </tr>\n",
       "    <tr>\n",
       "      <th>3</th>\n",
       "      <td>-0.285425</td>\n",
       "      <td>0.691709</td>\n",
       "      <td>0.047192</td>\n",
       "      <td>-0.568973</td>\n",
       "      <td>0.221501</td>\n",
       "      <td>-0.803788</td>\n",
       "    </tr>\n",
       "    <tr>\n",
       "      <th>4</th>\n",
       "      <td>-0.266700</td>\n",
       "      <td>0.557955</td>\n",
       "      <td>-1.308947</td>\n",
       "      <td>-0.568973</td>\n",
       "      <td>-0.930304</td>\n",
       "      <td>-0.803788</td>\n",
       "    </tr>\n",
       "  </tbody>\n",
       "</table>\n",
       "</div>"
      ],
      "text/plain": [
       "      price   lotsize  bedrooms   bathrms   stories  garagepl\n",
       "0 -0.978239  0.322732  0.047192 -0.568973  0.221501  0.357239\n",
       "1 -1.109312 -0.530526 -1.308947 -0.568973 -0.930304 -0.803788\n",
       "2 -0.697368 -0.964074  0.047192 -0.568973 -0.930304 -0.803788\n",
       "3 -0.285425  0.691709  0.047192 -0.568973  0.221501 -0.803788\n",
       "4 -0.266700  0.557955 -1.308947 -0.568973 -0.930304 -0.803788"
      ]
     },
     "execution_count": 25,
     "metadata": {},
     "output_type": "execute_result"
    }
   ],
   "source": [
    "# Delete unnecessary column\n",
    "# Normalised the data with mean\n",
    " \n",
    "\n",
    "data = pd.read_csv('Housing Price data set.csv')\n",
    "data=data.drop(['Unnamed: 0','driveway','recroom','fullbase','airco','prefarea', 'gashw'],axis=1)\n",
    "mean = data.mean()[0]\n",
    "stddev = data.std()[0]\n",
    "data = (data - data.mean())/data.std()\n",
    "\n",
    "data.head()"
   ]
  },
  {
   "cell_type": "code",
   "execution_count": 17,
   "id": "1b72c7b2",
   "metadata": {},
   "outputs": [],
   "source": [
    "#Separate out the Feature and Target matrices and devide test and train data with 0.9 split ratio\n",
    " \n",
    "data=np.asarray(data)\n",
    "Y=data[:,0:1]\n",
    "X=data[:,1:]\n",
    "one = np.ones((len(X),1))\n",
    "X = np.concatenate((one,X),axis=1)\n",
    "split_ratio = 0.9\n",
    "split = int(split_ratio * X.shape[0])\n",
    "X_test = X[split+1:,:]\n",
    "X_train = X[:split+1, :]\n",
    "Y_test = Y[split+1:,:]\n",
    "Y_train = Y[:split+1, :]\n",
    "\n",
    "\n",
    "\n",
    "\n"
   ]
  },
  {
   "cell_type": "code",
   "execution_count": 18,
   "id": "b3e32206",
   "metadata": {},
   "outputs": [],
   "source": [
    "# Compute cost function\n",
    "# denormalise price funcion\n",
    "# compute error function\n",
    "# plot graph function\n",
    "\n",
    "\n",
    "# helper Functions\n",
    "def computeCost(X,y,theta,lam):\n",
    "    tobesummed = np.power(((X.dot(theta.T))-y),2)+lam*np.sum(np.power(theta,2))\n",
    "    return np.sum(tobesummed)/(2 * len(X))\n",
    "\n",
    "def denormalise_price(price):\n",
    "    global mean\n",
    "    global stddev\n",
    "    ret = price * stddev + mean\n",
    "    return ret\n",
    "\n",
    "def computeError(predicted, actual):\n",
    "    error = 0\n",
    "    for i in range(len(predicted)):\n",
    "        error += abs(actual[i] - predicted[i]) / actual[i]\n",
    "    error /= len(actual)\n",
    "    return error[0]\n",
    "\n",
    "def plotGraph(x,y,labelX='X',labelY='Y',title='X vs Y'):\n",
    "  fig, ax = plt.subplots()  \n",
    "  ax.plot(x, y, 'r')\n",
    "  ax.set_xlabel(labelX) \n",
    "  ax.set_ylabel(labelY)  \n",
    "  ax.set_title(title)\n",
    "\n"
   ]
  },
  {
   "cell_type": "code",
   "execution_count": 19,
   "id": "be96d83f",
   "metadata": {},
   "outputs": [],
   "source": [
    "# Gradient Descent\n",
    "def gradientDescent(X,y,theta,iters,alpha, lam):\n",
    "    lam_matrix = lam * np.ones(theta.shape)\n",
    "    lam_matrix[0][0] = 0\n",
    "    for i in range(iters):\n",
    "        theta = theta*(1- lam_matrix / len(X)) - (alpha/len(X)) * np.sum(X * (X @ theta.T - y), axis=0)\n",
    "\n",
    "    return theta"
   ]
  },
  {
   "cell_type": "code",
   "execution_count": 20,
   "id": "0593c000",
   "metadata": {},
   "outputs": [],
   "source": [
    "#Normal equation\n",
    "def normalEquation(X,Y,lam):\n",
    "    lam_matrix = lam * np.identity(X.shape[1])\n",
    "    lam_matrix[0][0] = 0\n",
    "    theta = np.linalg.inv(X.T.dot(X) + lam_matrix).dot(X.T).dot(Y)\n",
    "    return theta"
   ]
  },
  {
   "cell_type": "code",
   "execution_count": 21,
   "id": "8138e89a",
   "metadata": {},
   "outputs": [
    {
     "name": "stdout",
     "output_type": "stream",
     "text": [
      "min Error  :  13.960611355440056 %\n",
      "Optimal Lambda :  24\n"
     ]
    },
    {
     "data": {
      "image/png": "[encoded data removed]",
      "text/plain": [
       "<Figure size 640x480 with 1 Axes>"
      ]
     },
     "metadata": {},
     "output_type": "display_data"
    }
   ],
   "source": [
    "theta = np.zeros([1,X.shape[1]])\n",
    "alpha = .1 #learning rate\n",
    "iters = 500 #epoch\n",
    "error_matrix = []\n",
    "lam_range = 600 #maximam lamda\n",
    "for lam in range(lam_range):\n",
    "    g = gradientDescent(X_train,Y_train,theta,iters,alpha, lam)\n",
    "    Cost = computeCost(X_train,Y_train,g,lam)\n",
    "\n",
    "    Y_pred = X_test.dot(g.T)\n",
    "    error = computeError(denormalise_price(Y_pred),denormalise_price(Y_test))\n",
    "    error_matrix.append(error*100)\n",
    "optimal_lambda = 0\n",
    "min_error = 9999\n",
    "for i in range(len(error_matrix)):\n",
    "    if error_matrix[i] < min_error:\n",
    "        optimal_lambda = i\n",
    "        min_error = error_matrix[i]\n",
    "\n",
    "print(\"min Error  : \", (min_error),'%')\n",
    "print(\"Optimal Lambda : \", optimal_lambda)\n",
    "plotGraph(np.arange(lam_range),error_matrix,'lambda','error','lambda vs error')"
   ]
  },
  {
   "cell_type": "code",
   "execution_count": 22,
   "id": "0dfa9234",
   "metadata": {},
   "outputs": [
    {
     "name": "stdout",
     "output_type": "stream",
     "text": [
      "pred price = 64257.576649503186 actual price = 58500.0\n"
     ]
    }
   ],
   "source": [
    "print('pred price =',denormalise_price(Y_pred[2][0]),'actual price =',denormalise_price(Y_test[2][0]))"
   ]
  },
  {
   "cell_type": "code",
   "execution_count": 26,
   "id": "107bc8e8",
   "metadata": {
    "scrolled": true
   },
   "outputs": [
    {
     "name": "stdout",
     "output_type": "stream",
     "text": [
      "min Error :  13.43228806152158\n",
      "Optimal Lambda :  311\n"
     ]
    },
    {
     "data": {
      "image/png": "[encoded data removed]",
      "text/plain": [
       "<Figure size 640x480 with 1 Axes>"
      ]
     },
     "metadata": {},
     "output_type": "display_data"
    }
   ],
   "source": [
    "error_mat = []\n",
    "lam_range = 600\n",
    "\n",
    "for lam in range(lam_range):\n",
    "    theta = normalEquation(X,Y,lam)\n",
    "    Cost = computeCost(X_train,Y_train,theta.T,lam)\n",
    "    Y_pred = X_test.dot(theta)\n",
    "    error = computeError(denormalise_price(Y_pred),denormalise_price(Y_test))\n",
    "    error_mat.append(error*100)\n",
    "\n",
    "optimal_lambda = 0\n",
    "min_error = 9999\n",
    "for i in range(len(error_mat)):\n",
    "    if error_mat[i] < min_error:\n",
    "        optimal_lambda = i\n",
    "        min_error = error_mat[i]\n",
    "print(\"min Error : \", min_error)\n",
    "print(\"Optimal Lambda : \", optimal_lambda)\n",
    "plotGraph(np.arange(lam_range),error_mat,'lambda','error','lambda vs error')"
   ]
  },
  {
   "cell_type": "code",
   "execution_count": 24,
   "id": "b80c1978",
   "metadata": {},
   "outputs": [
    {
     "name": "stdout",
     "output_type": "stream",
     "text": [
      "pred price = 57100.4263172447 actual price = 58500.0\n"
     ]
    }
   ],
   "source": [
    "print('pred price =',denormalise_price(Y_pred[2][0]),'actual price =',denormalise_price(Y_test[2])[0])"
   ]
  },
  {
   "cell_type": "markdown",
   "id": "d0a7761a",
   "metadata": {},
   "source": [
    "THANK YOU"
   ]
  },
  {
   "cell_type": "code",
   "execution_count": null,
   "id": "e002aab8",
   "metadata": {},
   "outputs": [],
   "source": []
  }
 ],
 "metadata": {
  "kernelspec": {
   "display_name": "Python 3 (ipykernel)",
   "language": "python",
   "name": "python3"
  },
  "language_info": {
   "codemirror_mode": {
    "name": "ipython",
    "version": 3
   },
   "file_extension": ".py",
   "mimetype": "text/x-python",
   "name": "python",
   "nbconvert_exporter": "python",
   "pygments_lexer": "ipython3",
   "version": "3.10.0"
  }
 },
 "nbformat": 4,
 "nbformat_minor": 5
}
